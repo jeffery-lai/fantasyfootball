{
 "cells": [
  {
   "cell_type": "code",
   "execution_count": 1,
   "id": "00d9cf22",
   "metadata": {},
   "outputs": [],
   "source": [
    "%load_ext autoreload\n",
    "%autoreload 2"
   ]
  },
  {
   "cell_type": "code",
   "execution_count": 2,
   "id": "e1053ca7",
   "metadata": {},
   "outputs": [],
   "source": [
    "import numpy as np\n",
    "import pandas as pd\n",
    "import os"
   ]
  },
  {
   "cell_type": "code",
   "execution_count": 3,
   "id": "569f8fd1",
   "metadata": {},
   "outputs": [],
   "source": [
    "from predictions import *"
   ]
  },
  {
   "cell_type": "code",
   "execution_count": 4,
   "id": "728d3b87",
   "metadata": {
    "scrolled": false
   },
   "outputs": [],
   "source": [
    "data = read_data(os.path.join('data', 'train'))"
   ]
  },
  {
   "cell_type": "code",
   "execution_count": 5,
   "id": "8a7423e9",
   "metadata": {},
   "outputs": [],
   "source": [
    "all_pos = get_positions(data)\n",
    "qb = all_pos['qb']\n",
    "rb = all_pos['rb']\n",
    "wr = all_pos['wr']\n",
    "te = all_pos['te']"
   ]
  },
  {
   "cell_type": "code",
   "execution_count": 6,
   "id": "ca06811e",
   "metadata": {},
   "outputs": [],
   "source": [
    "qb_reg = train_model(qb, 'qb')\n",
    "rb_reg = train_model(rb, 'rb')\n",
    "wr_reg = train_model(wr, 'wr')\n",
    "te_reg = train_model(te, 'te')"
   ]
  },
  {
   "cell_type": "code",
   "execution_count": 7,
   "id": "e0178db8",
   "metadata": {},
   "outputs": [],
   "source": [
    "test_data = read_data(os.path.join('data', 'test'))"
   ]
  },
  {
   "cell_type": "code",
   "execution_count": 8,
   "id": "01a2b12f",
   "metadata": {},
   "outputs": [],
   "source": [
    "qb_test = get_positions(test_data)['qb']\n",
    "rb_test = get_positions(test_data)['rb']\n",
    "wr_test = get_positions(test_data)['wr']\n",
    "te_test = get_positions(test_data)['te']"
   ]
  },
  {
   "cell_type": "code",
   "execution_count": 9,
   "id": "3332c560",
   "metadata": {
    "scrolled": true
   },
   "outputs": [
    {
     "data": {
      "text/html": [
       "<div>\n",
       "<style scoped>\n",
       "    .dataframe tbody tr th:only-of-type {\n",
       "        vertical-align: middle;\n",
       "    }\n",
       "\n",
       "    .dataframe tbody tr th {\n",
       "        vertical-align: top;\n",
       "    }\n",
       "\n",
       "    .dataframe thead th {\n",
       "        text-align: right;\n",
       "    }\n",
       "</style>\n",
       "<table border=\"1\" class=\"dataframe\">\n",
       "  <thead>\n",
       "    <tr style=\"text-align: right;\">\n",
       "      <th></th>\n",
       "      <th>PredictedPoints</th>\n",
       "    </tr>\n",
       "    <tr>\n",
       "      <th>Player</th>\n",
       "      <th></th>\n",
       "    </tr>\n",
       "  </thead>\n",
       "  <tbody>\n",
       "    <tr>\n",
       "      <th>Josh Allen</th>\n",
       "      <td>23.19</td>\n",
       "    </tr>\n",
       "    <tr>\n",
       "      <th>Tom Brady</th>\n",
       "      <td>21.44</td>\n",
       "    </tr>\n",
       "    <tr>\n",
       "      <th>Justin Herbert</th>\n",
       "      <td>21.30</td>\n",
       "    </tr>\n",
       "    <tr>\n",
       "      <th>Kyler Murray</th>\n",
       "      <td>21.08</td>\n",
       "    </tr>\n",
       "    <tr>\n",
       "      <th>Patrick Mahomes</th>\n",
       "      <td>20.81</td>\n",
       "    </tr>\n",
       "    <tr>\n",
       "      <th>...</th>\n",
       "      <td>...</td>\n",
       "    </tr>\n",
       "    <tr>\n",
       "      <th>Feleipe Franks</th>\n",
       "      <td>0.13</td>\n",
       "    </tr>\n",
       "    <tr>\n",
       "      <th>Nathan Peterman</th>\n",
       "      <td>0.06</td>\n",
       "    </tr>\n",
       "    <tr>\n",
       "      <th>Ryan Fitzpatrick</th>\n",
       "      <td>-0.02</td>\n",
       "    </tr>\n",
       "    <tr>\n",
       "      <th>John Wolford</th>\n",
       "      <td>-0.22</td>\n",
       "    </tr>\n",
       "    <tr>\n",
       "      <th>Kellen Mond</th>\n",
       "      <td>-0.25</td>\n",
       "    </tr>\n",
       "  </tbody>\n",
       "</table>\n",
       "<p>76 rows × 1 columns</p>\n",
       "</div>"
      ],
      "text/plain": [
       "                  PredictedPoints\n",
       "Player                           \n",
       "Josh Allen                  23.19\n",
       "Tom Brady                   21.44\n",
       "Justin Herbert              21.30\n",
       "Kyler Murray                21.08\n",
       "Patrick Mahomes             20.81\n",
       "...                           ...\n",
       "Feleipe Franks               0.13\n",
       "Nathan Peterman              0.06\n",
       "Ryan Fitzpatrick            -0.02\n",
       "John Wolford                -0.22\n",
       "Kellen Mond                 -0.25\n",
       "\n",
       "[76 rows x 1 columns]"
      ]
     },
     "execution_count": 9,
     "metadata": {},
     "output_type": "execute_result"
    }
   ],
   "source": [
    "predictions(qb_test, 'qb', qb_reg)"
   ]
  },
  {
   "cell_type": "code",
   "execution_count": 10,
   "id": "112cf217",
   "metadata": {},
   "outputs": [
    {
     "data": {
      "text/html": [
       "<div>\n",
       "<style scoped>\n",
       "    .dataframe tbody tr th:only-of-type {\n",
       "        vertical-align: middle;\n",
       "    }\n",
       "\n",
       "    .dataframe tbody tr th {\n",
       "        vertical-align: top;\n",
       "    }\n",
       "\n",
       "    .dataframe thead th {\n",
       "        text-align: right;\n",
       "    }\n",
       "</style>\n",
       "<table border=\"1\" class=\"dataframe\">\n",
       "  <thead>\n",
       "    <tr style=\"text-align: right;\">\n",
       "      <th></th>\n",
       "      <th>PredictedPoints</th>\n",
       "    </tr>\n",
       "    <tr>\n",
       "      <th>Player</th>\n",
       "      <th></th>\n",
       "    </tr>\n",
       "  </thead>\n",
       "  <tbody>\n",
       "    <tr>\n",
       "      <th>Derrick Henry</th>\n",
       "      <td>21.96</td>\n",
       "    </tr>\n",
       "    <tr>\n",
       "      <th>Jonathan Taylor</th>\n",
       "      <td>20.78</td>\n",
       "    </tr>\n",
       "    <tr>\n",
       "      <th>Austin Ekeler</th>\n",
       "      <td>19.25</td>\n",
       "    </tr>\n",
       "    <tr>\n",
       "      <th>Joe Mixon</th>\n",
       "      <td>16.58</td>\n",
       "    </tr>\n",
       "    <tr>\n",
       "      <th>Alvin Kamara</th>\n",
       "      <td>16.00</td>\n",
       "    </tr>\n",
       "    <tr>\n",
       "      <th>...</th>\n",
       "      <td>...</td>\n",
       "    </tr>\n",
       "    <tr>\n",
       "      <th>Trenton Cannon</th>\n",
       "      <td>0.02</td>\n",
       "    </tr>\n",
       "    <tr>\n",
       "      <th>Darius Bradwell</th>\n",
       "      <td>-0.04</td>\n",
       "    </tr>\n",
       "    <tr>\n",
       "      <th>Andrew Beck</th>\n",
       "      <td>-0.04</td>\n",
       "    </tr>\n",
       "    <tr>\n",
       "      <th>Tory Carter</th>\n",
       "      <td>-0.04</td>\n",
       "    </tr>\n",
       "    <tr>\n",
       "      <th>Kenjon Barner</th>\n",
       "      <td>-0.05</td>\n",
       "    </tr>\n",
       "  </tbody>\n",
       "</table>\n",
       "<p>171 rows × 1 columns</p>\n",
       "</div>"
      ],
      "text/plain": [
       "                 PredictedPoints\n",
       "Player                          \n",
       "Derrick Henry              21.96\n",
       "Jonathan Taylor            20.78\n",
       "Austin Ekeler              19.25\n",
       "Joe Mixon                  16.58\n",
       "Alvin Kamara               16.00\n",
       "...                          ...\n",
       "Trenton Cannon              0.02\n",
       "Darius Bradwell            -0.04\n",
       "Andrew Beck                -0.04\n",
       "Tory Carter                -0.04\n",
       "Kenjon Barner              -0.05\n",
       "\n",
       "[171 rows x 1 columns]"
      ]
     },
     "execution_count": 10,
     "metadata": {},
     "output_type": "execute_result"
    }
   ],
   "source": [
    "predictions(rb_test, 'rb', rb_reg)"
   ]
  },
  {
   "cell_type": "code",
   "execution_count": 11,
   "id": "bb917b2b",
   "metadata": {},
   "outputs": [
    {
     "data": {
      "text/html": [
       "<div>\n",
       "<style scoped>\n",
       "    .dataframe tbody tr th:only-of-type {\n",
       "        vertical-align: middle;\n",
       "    }\n",
       "\n",
       "    .dataframe tbody tr th {\n",
       "        vertical-align: top;\n",
       "    }\n",
       "\n",
       "    .dataframe thead th {\n",
       "        text-align: right;\n",
       "    }\n",
       "</style>\n",
       "<table border=\"1\" class=\"dataframe\">\n",
       "  <thead>\n",
       "    <tr style=\"text-align: right;\">\n",
       "      <th></th>\n",
       "      <th>PredictedPoints</th>\n",
       "    </tr>\n",
       "    <tr>\n",
       "      <th>Player</th>\n",
       "      <th></th>\n",
       "    </tr>\n",
       "  </thead>\n",
       "  <tbody>\n",
       "    <tr>\n",
       "      <th>Cooper Kupp</th>\n",
       "      <td>21.40</td>\n",
       "    </tr>\n",
       "    <tr>\n",
       "      <th>Kristian Wilkerson</th>\n",
       "      <td>18.31</td>\n",
       "    </tr>\n",
       "    <tr>\n",
       "      <th>Davante Adams</th>\n",
       "      <td>17.71</td>\n",
       "    </tr>\n",
       "    <tr>\n",
       "      <th>Justin Jefferson</th>\n",
       "      <td>16.25</td>\n",
       "    </tr>\n",
       "    <tr>\n",
       "      <th>Ja'Marr Chase</th>\n",
       "      <td>15.58</td>\n",
       "    </tr>\n",
       "    <tr>\n",
       "      <th>...</th>\n",
       "      <td>...</td>\n",
       "    </tr>\n",
       "    <tr>\n",
       "      <th>John Brown</th>\n",
       "      <td>0.08</td>\n",
       "    </tr>\n",
       "    <tr>\n",
       "      <th>Isaiah Coulter</th>\n",
       "      <td>0.08</td>\n",
       "    </tr>\n",
       "    <tr>\n",
       "      <th>Rodney Adams</th>\n",
       "      <td>0.08</td>\n",
       "    </tr>\n",
       "    <tr>\n",
       "      <th>Travis Benjamin</th>\n",
       "      <td>0.08</td>\n",
       "    </tr>\n",
       "    <tr>\n",
       "      <th>Geronimo Allison</th>\n",
       "      <td>0.08</td>\n",
       "    </tr>\n",
       "  </tbody>\n",
       "</table>\n",
       "<p>241 rows × 1 columns</p>\n",
       "</div>"
      ],
      "text/plain": [
       "                    PredictedPoints\n",
       "Player                             \n",
       "Cooper Kupp                   21.40\n",
       "Kristian Wilkerson            18.31\n",
       "Davante Adams                 17.71\n",
       "Justin Jefferson              16.25\n",
       "Ja'Marr Chase                 15.58\n",
       "...                             ...\n",
       "John Brown                     0.08\n",
       "Isaiah Coulter                 0.08\n",
       "Rodney Adams                   0.08\n",
       "Travis Benjamin                0.08\n",
       "Geronimo Allison               0.08\n",
       "\n",
       "[241 rows x 1 columns]"
      ]
     },
     "execution_count": 11,
     "metadata": {},
     "output_type": "execute_result"
    }
   ],
   "source": [
    "predictions(wr_test, 'wr', wr_reg)"
   ]
  },
  {
   "cell_type": "code",
   "execution_count": 12,
   "id": "9563982d",
   "metadata": {},
   "outputs": [
    {
     "data": {
      "text/html": [
       "<div>\n",
       "<style scoped>\n",
       "    .dataframe tbody tr th:only-of-type {\n",
       "        vertical-align: middle;\n",
       "    }\n",
       "\n",
       "    .dataframe tbody tr th {\n",
       "        vertical-align: top;\n",
       "    }\n",
       "\n",
       "    .dataframe thead th {\n",
       "        text-align: right;\n",
       "    }\n",
       "</style>\n",
       "<table border=\"1\" class=\"dataframe\">\n",
       "  <thead>\n",
       "    <tr style=\"text-align: right;\">\n",
       "      <th></th>\n",
       "      <th>PredictedPoints</th>\n",
       "    </tr>\n",
       "    <tr>\n",
       "      <th>Player</th>\n",
       "      <th></th>\n",
       "    </tr>\n",
       "  </thead>\n",
       "  <tbody>\n",
       "    <tr>\n",
       "      <th>Mark Andrews</th>\n",
       "      <td>14.27</td>\n",
       "    </tr>\n",
       "    <tr>\n",
       "      <th>Travis Kelce</th>\n",
       "      <td>13.23</td>\n",
       "    </tr>\n",
       "    <tr>\n",
       "      <th>Rob Gronkowski</th>\n",
       "      <td>13.03</td>\n",
       "    </tr>\n",
       "    <tr>\n",
       "      <th>George Kittle</th>\n",
       "      <td>11.56</td>\n",
       "    </tr>\n",
       "    <tr>\n",
       "      <th>T.J. Hockenson</th>\n",
       "      <td>10.20</td>\n",
       "    </tr>\n",
       "    <tr>\n",
       "      <th>...</th>\n",
       "      <td>...</td>\n",
       "    </tr>\n",
       "    <tr>\n",
       "      <th>Daniel Helm</th>\n",
       "      <td>0.39</td>\n",
       "    </tr>\n",
       "    <tr>\n",
       "      <th>Cethan Carter</th>\n",
       "      <td>0.37</td>\n",
       "    </tr>\n",
       "    <tr>\n",
       "      <th>Nick Boyle</th>\n",
       "      <td>0.35</td>\n",
       "    </tr>\n",
       "    <tr>\n",
       "      <th>Darrell Daniels</th>\n",
       "      <td>0.17</td>\n",
       "    </tr>\n",
       "    <tr>\n",
       "      <th>Taysom Hill</th>\n",
       "      <td>0.00</td>\n",
       "    </tr>\n",
       "  </tbody>\n",
       "</table>\n",
       "<p>120 rows × 1 columns</p>\n",
       "</div>"
      ],
      "text/plain": [
       "                 PredictedPoints\n",
       "Player                          \n",
       "Mark Andrews               14.27\n",
       "Travis Kelce               13.23\n",
       "Rob Gronkowski             13.03\n",
       "George Kittle              11.56\n",
       "T.J. Hockenson             10.20\n",
       "...                          ...\n",
       "Daniel Helm                 0.39\n",
       "Cethan Carter               0.37\n",
       "Nick Boyle                  0.35\n",
       "Darrell Daniels             0.17\n",
       "Taysom Hill                 0.00\n",
       "\n",
       "[120 rows x 1 columns]"
      ]
     },
     "execution_count": 12,
     "metadata": {},
     "output_type": "execute_result"
    }
   ],
   "source": [
    "predictions(te_test, 'te', te_reg)"
   ]
  },
  {
   "cell_type": "code",
   "execution_count": 24,
   "id": "4d5ef910",
   "metadata": {},
   "outputs": [
    {
     "data": {
      "text/plain": [
       "<AxesSubplot:title={'center':'QB Predictions'}, ylabel='Player'>"
      ]
     },
     "execution_count": 24,
     "metadata": {},
     "output_type": "execute_result"
    },
    {
     "data": {
      "image/png": "[encoded data removed]",
      "text/plain": [
       "<Figure size 432x288 with 1 Axes>"
      ]
     },
     "metadata": {
      "needs_background": "light"
     },
     "output_type": "display_data"
    }
   ],
   "source": [
    "predictions(qb_test, 'qb', qb_reg)[0:20].plot(kind='barh', title = 'QB Predictions')"
   ]
  },
  {
   "cell_type": "code",
   "execution_count": 25,
   "id": "cd61b94e",
   "metadata": {},
   "outputs": [
    {
     "data": {
      "text/plain": [
       "<AxesSubplot:title={'center':'RB Predictions'}, ylabel='Player'>"
      ]
     },
     "execution_count": 25,
     "metadata": {},
     "output_type": "execute_result"
    },
    {
     "data": {
      "image/png": "[encoded data removed]",
      "text/plain": [
       "<Figure size 432x288 with 1 Axes>"
      ]
     },
     "metadata": {
      "needs_background": "light"
     },
     "output_type": "display_data"
    }
   ],
   "source": [
    "predictions(rb_test, 'rb', rb_reg)[0:20].plot(kind='barh', title = 'RB Predictions')"
   ]
  },
  {
   "cell_type": "code",
   "execution_count": 26,
   "id": "fa0392d6",
   "metadata": {},
   "outputs": [
    {
     "data": {
      "text/plain": [
       "<AxesSubplot:title={'center':'WR Predictions'}, ylabel='Player'>"
      ]
     },
     "execution_count": 26,
     "metadata": {},
     "output_type": "execute_result"
    },
    {
     "data": {
      "image/png": "[encoded data removed]",
      "text/plain": [
       "<Figure size 432x288 with 1 Axes>"
      ]
     },
     "metadata": {
      "needs_background": "light"
     },
     "output_type": "display_data"
    }
   ],
   "source": [
    "predictions(wr_test, 'wr', wr_reg)[0:20].plot(kind='barh', title = 'WR Predictions')"
   ]
  },
  {
   "cell_type": "code",
   "execution_count": 27,
   "id": "f3019bb7",
   "metadata": {},
   "outputs": [
    {
     "data": {
      "text/plain": [
       "<AxesSubplot:title={'center':'TE Predictions'}, ylabel='Player'>"
      ]
     },
     "execution_count": 27,
     "metadata": {},
     "output_type": "execute_result"
    },
    {
     "data": {
      "image/png": "[encoded data removed]",
      "text/plain": [
       "<Figure size 432x288 with 1 Axes>"
      ]
     },
     "metadata": {
      "needs_background": "light"
     },
     "output_type": "display_data"
    }
   ],
   "source": [
    "predictions(te_test, 'te', te_reg)[0:20].plot(kind='barh', title = 'TE Predictions')"
   ]
  },
  {
   "cell_type": "code",
   "execution_count": 28,
   "id": "e9942f59",
   "metadata": {},
   "outputs": [],
   "source": [
    "os.makedirs('predictions', exist_ok=True)  "
   ]
  },
  {
   "cell_type": "code",
   "execution_count": 29,
   "id": "4543f091",
   "metadata": {},
   "outputs": [],
   "source": [
    "predictions(qb_test, 'qb', qb_reg).to_csv('predictions/qb.csv')  \n",
    "predictions(rb_test, 'rb', rb_reg).to_csv('predictions/rb.csv')  \n",
    "predictions(wr_test, 'wr', wr_reg).to_csv('predictions/wr.csv')  \n",
    "predictions(te_test, 'te', te_reg).to_csv('predictions/te.csv')"
   ]
  },
  {
   "cell_type": "code",
   "execution_count": null,
   "id": "108154a3",
   "metadata": {},
   "outputs": [],
   "source": []
  }
 ],
 "metadata": {
  "kernelspec": {
   "display_name": "Python 3 (ipykernel)",
   "language": "python",
   "name": "python3"
  },
  "language_info": {
   "codemirror_mode": {
    "name": "ipython",
    "version": 3
   },
   "file_extension": ".py",
   "mimetype": "text/x-python",
   "name": "python",
   "nbconvert_exporter": "python",
   "pygments_lexer": "ipython3",
   "version": "3.9.12"
  }
 },
 "nbformat": 4,
 "nbformat_minor": 5
}
