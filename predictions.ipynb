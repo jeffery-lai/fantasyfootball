{
 "cells": [
  {
   "cell_type": "code",
   "execution_count": 1,
   "id": "aa8197a7",
   "metadata": {},
   "outputs": [],
   "source": [
    "%load_ext autoreload\n",
    "%autoreload 2"
   ]
  },
  {
   "cell_type": "code",
   "execution_count": 2,
   "id": "05db84e2",
   "metadata": {},
   "outputs": [],
   "source": [
    "import numpy as np\n",
    "import pandas as pd\n",
    "import os"
   ]
  },
  {
   "cell_type": "code",
   "execution_count": 3,
   "id": "089defea",
   "metadata": {},
   "outputs": [],
   "source": [
    "from predictions import *"
   ]
  },
  {
   "cell_type": "code",
   "execution_count": 4,
   "id": "330ce9e7",
   "metadata": {
    "scrolled": false
   },
   "outputs": [],
   "source": [
    "data = read_data(os.path.join('data', 'train'))"
   ]
  },
  {
   "cell_type": "code",
   "execution_count": 5,
   "id": "3153d2d3",
   "metadata": {},
   "outputs": [],
   "source": [
    "qb = get_positions(data)['qb']"
   ]
  },
  {
   "cell_type": "code",
   "execution_count": 6,
   "id": "ec842b4c",
   "metadata": {},
   "outputs": [],
   "source": [
    "qb_reg = train_model(qb, 'qb')"
   ]
  },
  {
   "cell_type": "code",
   "execution_count": 12,
   "id": "9357887e",
   "metadata": {},
   "outputs": [],
   "source": [
    "test_data = read_data(os.path.join('data', 'test'))\n",
    "qb_test = get_positions(test_data)['qb']"
   ]
  },
  {
   "cell_type": "code",
   "execution_count": 13,
   "id": "ecd05e25",
   "metadata": {
    "scrolled": true
   },
   "outputs": [
    {
     "data": {
      "text/html": [
       "<div>\n",
       "<style scoped>\n",
       "    .dataframe tbody tr th:only-of-type {\n",
       "        vertical-align: middle;\n",
       "    }\n",
       "\n",
       "    .dataframe tbody tr th {\n",
       "        vertical-align: top;\n",
       "    }\n",
       "\n",
       "    .dataframe thead th {\n",
       "        text-align: right;\n",
       "    }\n",
       "</style>\n",
       "<table border=\"1\" class=\"dataframe\">\n",
       "  <thead>\n",
       "    <tr style=\"text-align: right;\">\n",
       "      <th></th>\n",
       "      <th>PredictedPoints</th>\n",
       "    </tr>\n",
       "    <tr>\n",
       "      <th>Player</th>\n",
       "      <th></th>\n",
       "    </tr>\n",
       "  </thead>\n",
       "  <tbody>\n",
       "    <tr>\n",
       "      <th>Josh Allen</th>\n",
       "      <td>23.31</td>\n",
       "    </tr>\n",
       "    <tr>\n",
       "      <th>Tom Brady</th>\n",
       "      <td>21.67</td>\n",
       "    </tr>\n",
       "    <tr>\n",
       "      <th>Justin Herbert</th>\n",
       "      <td>21.48</td>\n",
       "    </tr>\n",
       "    <tr>\n",
       "      <th>Kyler Murray</th>\n",
       "      <td>21.16</td>\n",
       "    </tr>\n",
       "    <tr>\n",
       "      <th>Patrick Mahomes</th>\n",
       "      <td>20.99</td>\n",
       "    </tr>\n",
       "    <tr>\n",
       "      <th>...</th>\n",
       "      <td>...</td>\n",
       "    </tr>\n",
       "    <tr>\n",
       "      <th>Feleipe Franks</th>\n",
       "      <td>0.35</td>\n",
       "    </tr>\n",
       "    <tr>\n",
       "      <th>Nathan Peterman</th>\n",
       "      <td>0.26</td>\n",
       "    </tr>\n",
       "    <tr>\n",
       "      <th>Ryan Fitzpatrick</th>\n",
       "      <td>0.24</td>\n",
       "    </tr>\n",
       "    <tr>\n",
       "      <th>John Wolford</th>\n",
       "      <td>0.05</td>\n",
       "    </tr>\n",
       "    <tr>\n",
       "      <th>Kellen Mond</th>\n",
       "      <td>0.03</td>\n",
       "    </tr>\n",
       "  </tbody>\n",
       "</table>\n",
       "<p>76 rows × 1 columns</p>\n",
       "</div>"
      ],
      "text/plain": [
       "                  PredictedPoints\n",
       "Player                           \n",
       "Josh Allen                  23.31\n",
       "Tom Brady                   21.67\n",
       "Justin Herbert              21.48\n",
       "Kyler Murray                21.16\n",
       "Patrick Mahomes             20.99\n",
       "...                           ...\n",
       "Feleipe Franks               0.35\n",
       "Nathan Peterman              0.26\n",
       "Ryan Fitzpatrick             0.24\n",
       "John Wolford                 0.05\n",
       "Kellen Mond                  0.03\n",
       "\n",
       "[76 rows x 1 columns]"
      ]
     },
     "execution_count": 13,
     "metadata": {},
     "output_type": "execute_result"
    }
   ],
   "source": [
    "predictions(qb_test, 'qb', qb_reg)"
   ]
  },
  {
   "cell_type": "code",
   "execution_count": null,
   "id": "07b01d37",
   "metadata": {},
   "outputs": [],
   "source": []
  }
 ],
 "metadata": {
  "kernelspec": {
   "display_name": "Python 3 (ipykernel)",
   "language": "python",
   "name": "python3"
  },
  "language_info": {
   "codemirror_mode": {
    "name": "ipython",
    "version": 3
   },
   "file_extension": ".py",
   "mimetype": "text/x-python",
   "name": "python",
   "nbconvert_exporter": "python",
   "pygments_lexer": "ipython3",
   "version": "3.9.12"
  }
 },
 "nbformat": 4,
 "nbformat_minor": 5
}
